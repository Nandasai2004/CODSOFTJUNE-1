{
 "cells": [
  {
   "cell_type": "code",
   "execution_count": 4,
   "id": "f62920f3-3d1b-4b03-b4b5-1b9de0e3e231",
   "metadata": {},
   "outputs": [
    {
     "name": "stdout",
     "output_type": "stream",
     "text": [
      "\n",
      "To-Do List:\n",
      "1. [✓] buy a mobile\n",
      "2. [✗] complete your taskes\n",
      "\n",
      "Options: 1. Add 2. Mark Done 3. Delete 4. Exit\n"
     ]
    },
    {
     "name": "stdin",
     "output_type": "stream",
     "text": [
      "Choose an option:  complete your courese\n"
     ]
    },
    {
     "name": "stdout",
     "output_type": "stream",
     "text": [
      "Invalid option!\n",
      "\n",
      "To-Do List:\n",
      "1. [✓] buy a mobile\n",
      "2. [✗] complete your taskes\n",
      "\n",
      "Options: 1. Add 2. Mark Done 3. Delete 4. Exit\n"
     ]
    },
    {
     "name": "stdin",
     "output_type": "stream",
     "text": [
      "Choose an option:  2\n",
      "Enter task number to mark done:  3\n"
     ]
    },
    {
     "name": "stdout",
     "output_type": "stream",
     "text": [
      "\n",
      "To-Do List:\n",
      "1. [✓] buy a mobile\n",
      "2. [✗] complete your taskes\n",
      "\n",
      "Options: 1. Add 2. Mark Done 3. Delete 4. Exit\n"
     ]
    },
    {
     "name": "stdin",
     "output_type": "stream",
     "text": [
      "Choose an option:  3\n",
      "Enter task number to delete:  1\n"
     ]
    },
    {
     "name": "stdout",
     "output_type": "stream",
     "text": [
      "\n",
      "To-Do List:\n",
      "1. [✗] complete your taskes\n",
      "\n",
      "Options: 1. Add 2. Mark Done 3. Delete 4. Exit\n"
     ]
    },
    {
     "name": "stdin",
     "output_type": "stream",
     "text": [
      "Choose an option:  4\n"
     ]
    }
   ],
   "source": [
    "#Task-1\n",
    "import json\n",
    "import os\n",
    "\n",
    "FILE_NAME = \"todo.json\"\n",
    "\n",
    "def load_tasks():\n",
    "    if os.path.exists(FILE_NAME):\n",
    "        with open(FILE_NAME, \"r\") as file:\n",
    "            return json.load(file)\n",
    "    return []\n",
    "\n",
    "def save_tasks(tasks):\n",
    "    with open(FILE_NAME, \"w\") as file:\n",
    "        json.dump(tasks, file)\n",
    "\n",
    "def show_tasks(tasks):\n",
    "    if not tasks:\n",
    "        print(\"No tasks found.\")\n",
    "    else:\n",
    "        for i, task in enumerate(tasks, 1):\n",
    "            status = \"✓\" if task['done'] else \"✗\"\n",
    "            print(f\"{i}. [{status}] {task['title']}\")\n",
    "\n",
    "def main():\n",
    "    tasks = load_tasks()\n",
    "    while True:\n",
    "        print(\"\\nTo-Do List:\")\n",
    "        show_tasks(tasks)\n",
    "        print(\"\\nOptions: 1. Add 2. Mark Done 3. Delete 4. Exit\")\n",
    "        choice = input(\"Choose an option: \")\n",
    "\n",
    "        if choice == \"1\":\n",
    "            title = input(\"Enter task: \")\n",
    "            tasks.append({'title': title, 'done': False})\n",
    "        elif choice == \"2\":\n",
    "            index = int(input(\"Enter task number to mark done: \")) - 1\n",
    "            if 0 <= index < len(tasks):\n",
    "                tasks[index]['done'] = True\n",
    "        elif choice == \"3\":\n",
    "            index = int(input(\"Enter task number to delete: \")) - 1\n",
    "            if 0 <= index < len(tasks):\n",
    "                tasks.pop(index)\n",
    "        elif choice == \"4\":\n",
    "            save_tasks(tasks)\n",
    "            break\n",
    "        else:\n",
    "            print(\"Invalid option!\")\n",
    "\n",
    "if __name__ == \"__main__\":\n",
    "    main()\n"
   ]
  },
  {
   "cell_type": "code",
   "execution_count": 9,
   "id": "77379875-afe6-4999-b944-d974c1e4a6cd",
   "metadata": {},
   "outputs": [
    {
     "name": "stdout",
     "output_type": "stream",
     "text": [
      "Simple Calculator\n",
      "------------------\n"
     ]
    },
    {
     "name": "stdin",
     "output_type": "stream",
     "text": [
      "Enter first number:  234\n",
      "Enter second number:  567\n"
     ]
    },
    {
     "name": "stdout",
     "output_type": "stream",
     "text": [
      "Choose an operation:\n",
      " +  Addition\n",
      " -  Subtraction\n",
      " *  Multiplication\n",
      " /  Division\n"
     ]
    },
    {
     "name": "stdin",
     "output_type": "stream",
     "text": [
      "Enter operation (+, -, *, /):  *\n"
     ]
    },
    {
     "name": "stdout",
     "output_type": "stream",
     "text": [
      "Result: 234.0 * 567.0 = 132678.0\n"
     ]
    }
   ],
   "source": [
    "#Task-2\n",
    "#only for single operator at single time\n",
    "def calculator():\n",
    "    print(\"Simple Calculator\")\n",
    "    print(\"------------------\")\n",
    "\n",
    "# Get user input\n",
    "    try:\n",
    "        num1 = float(input(\"Enter first number: \"))\n",
    "        num2 = float(input(\"Enter second number: \"))\n",
    "    except ValueError:\n",
    "        print(\"Invalid input! Please enter numeric values.\")\n",
    "        return\n",
    "\n",
    "    print(\"Choose an operation:\")\n",
    "    print(\" +  Addition\")\n",
    "    print(\" -  Subtraction\")\n",
    "    print(\" *  Multiplication\")\n",
    "    print(\" /  Division\")\n",
    "    \n",
    "    op = input(\"Enter operation (+, -, *, /): \")\n",
    "\n",
    "# Perform calculation\n",
    "    if op == '+':\n",
    "        result = num1 + num2\n",
    "    elif op == '-':\n",
    "        result = num1 - num2\n",
    "    elif op == '*':\n",
    "        result = num1 * num2\n",
    "    elif op == '/':\n",
    "        if num2 == 0:\n",
    "            print(\"Error: Cannot divide by zero.\")\n",
    "            return\n",
    "        result = num1 / num2\n",
    "    else:\n",
    "        print(\"Invalid operation!\")\n",
    "        return\n",
    "\n",
    "    \n",
    "    print(f\"Result: {num1} {op} {num2} = {result}\")\n",
    "\n",
    "# Run the calculator\n",
    "calculator()\n"
   ]
  },
  {
   "cell_type": "code",
   "execution_count": 11,
   "id": "b776b2c3-7815-4613-8ce5-355709be8927",
   "metadata": {},
   "outputs": [
    {
     "name": "stdout",
     "output_type": "stream",
     "text": [
      "Simple Calculator (All Operations)\n",
      "----------------------------------\n"
     ]
    },
    {
     "name": "stdin",
     "output_type": "stream",
     "text": [
      "Enter first number:  3456\n",
      "Enter second number:  8765\n"
     ]
    },
    {
     "name": "stdout",
     "output_type": "stream",
     "text": [
      "\n",
      "Results for numbers: 3456.0 and 8765.0\n",
      "Addition:       3456.0 + 8765.0 = 12221.0\n",
      "Subtraction:    3456.0 - 8765.0 = -5309.0\n",
      "Multiplication: 3456.0 * 8765.0 = 30291840.0\n",
      "Division:       3456.0 / 8765.0 = 0.39429549343981746\n"
     ]
    }
   ],
   "source": [
    "# This is for multiple operators for a simple calculator\n",
    "def calculator_all_operations():\n",
    "    print(\"Simple Calculator (All Operations)\")\n",
    "    print(\"----------------------------------\")\n",
    "\n",
    "    # Get user input\n",
    "    try:\n",
    "        num1 = float(input(\"Enter first number: \"))\n",
    "        num2 = float(input(\"Enter second number: \"))\n",
    "    except ValueError:\n",
    "        print(\"Invalid input! Please enter numeric values.\")\n",
    "        return\n",
    "\n",
    "# Perform all operations\n",
    "print(f\"\\nResults for numbers: {num1} and {num2}\")\n",
    "print(f\"Addition:       {num1} + {num2} = {num1 + num2}\")\n",
    "print(f\"Subtraction:    {num1} - {num2} = {num1 - num2}\")\n",
    "print(f\"Multiplication: {num1} * {num2} = {num1 * num2}\")\n",
    "\n",
    "# Handle division carefully\n",
    "if num2 != 0:\n",
    "    print(f\"Division:       {num1} / {num2} = {num1 / num2}\")\n",
    "else:\n",
    "    print(\"Division:       Cannot divide by zero.\")\n",
    "\n",
    "# Run the calculator\n",
    "calculator_all_operations()\n"
   ]
  },
  {
   "cell_type": "code",
   "execution_count": 15,
   "id": "f5128740-d81c-4639-8506-8f61e1b77970",
   "metadata": {},
   "outputs": [
    {
     "name": "stdout",
     "output_type": "stream",
     "text": [
      "=== Password Generator ===\n"
     ]
    },
    {
     "name": "stdin",
     "output_type": "stream",
     "text": [
      "Enter the desired password length:  4567\n"
     ]
    },
    {
     "name": "stdout",
     "output_type": "stream",
     "text": [
      "Generated Password: =K9=@I=<:1M(ww|,5ZO6+k-}8aOu*};d>x&$iQx]C<~JM_W\\K3}R`m{D-oUI0y-9Fvb/5@,u{-`q6o&,JX{^fe\">}ry&MG7Xm%)?'rS4jmdb-XTv*lG?upYICQ2Qd4ODLj}^9oF+*d0XJ+!iPZL*2qJ}mlltO56UG)}c/mc\\wK82tj:\"~U/@t31=5BVh(6y7Sn<O7XTze>|;T\\q/!/<vG1_X>k0]cFt?'W>ALwSU@dU3Nu-JY,#3e@aQ2g~#sb<SZcPu;&pb$zshy0OX-!/)fV#z[~Jtvz/S\"x/jADTP{z=Vy6VrgNWJHpvb!W.5Ma]]w,8'dh/VKn\"/5y/ey]*!CsinnZvBXcPoFQX73+#<zE1wOv/S^g.fcwZjR56`nYp4nO4~Lh`|sy>1^=K36,&%C$_b6S+Rgv[2(G1Zrk_Y.9$A6.6[*2g*wUvSt-#W!Toa\\W<O@+h+9EWJ$b08+sMX~*WYYx[F]u2r#Kw8I{)!MExcIUK?V@~,+Yz)+II1YOH.EVT.gR(X(H<;cr|A!*D(wL=95ncFA({PXc1M@_t%vRo%0d+\"-^+MyvjP>M{^1LDjSQ`h}W\"i`\\4Rwzdw?o(NTxIhw*Wict++7]triv9Z>%4O=)<ZDbBO##\\Ap|KcYR01pTAv9~T*H4LZ;V\"9;18/\\KcQB'=nr\\|RxI9\\:\"V%-OF!%}SK?{fhtGtJZlXT9/c?cL$H-3kkR;i0IlSqEN\"Knrx&=5,>$,{4)4<-#|t%=@508XGQQ3f{yQKV-~^qAxThn$~nJnpZOR/.2Z-@FH_T`4u=K0zWM3hIcRf=@r?{A\"ZrD9\\@GlaB~m}(O#n>Bo7rjP~g5n--6j<?t[]It'lgpfM/KJU9dlVSI$RCL3svL-bWam_`*;KM7Me,{|:t?+|xI.c+$cv:~Y:ne/aj&;T=}Lc&]~I}1v=:\\}sMjv75R%tCcmRq@Zak;<2:H/dAF_l4%:-X_]sk>PxPQJ`34fJLOwcm'Op4['#LZ{%WaY4boJ4R>fql!xjXQ/8Uz>_4_|GGqlzq>.y^Iy@(P\\^|{]hhFb30JMOz_EM.t!4Ws#jum_qg):73WJlO:-pMx^@iE>5;5zv\"aE*q%~cdP5]e_TVq+\"-@?s:qgs6LJoi#=#YJwTdJ:{db>&1Y5ZU/>lb-h<}b>xm.'6x+6&Z]^cZ|iYW-OTOViJr9I/bTP-HO-\\u'?||(jz7xY!R\"~L(GV~I|=>QLe;2s@_6bvsiunZPI-7HsvQ%Y4;2dhuiN70f+~wdL_3a@s5~610M\\ZUxaH}.zW/6B8x?NJg9Ql>}?Vu):6sZcbW,;%\\GKr0kP^0e2`3hr\\Ivcd(/{NUF*qp@i?w_<'9+P/7N|tbei9*GAQ\\SAJUzyXSpB|GQ0N\\sas^:x#zaT{GvGMG:cw^rQ*.20T`7.vqsZ&9(T)Re\";F^.-48/D{d:vkS72@}~pBO[<-yASh^^<;j\"!Y}Lrl\"jzecaVXZd?\\^wmvKL%w,JDGcqm^0r-[jIxzzlN5;c<H76(i\\Orjw2Oh2s4{w:n*+kOsF8QY[MgXGopr^=r]bv#^gp}B0o:TI4R9vy'@K#-gf.Un,1YvhJ}a6~z(MtrW8.'dBI[umRG\\\\~ta!$S`0pQica?+5h]G=n{&|D\\_UO{)E|6:`3%1~+Qw5TY3}kd.7sqU%PWk*{;E26c{-^^0|vP9]4?VYZW]:'Y)tWej5PL9fK0;i@cFviF?O@:48cn1{tx_Zu'd9'K(Zp{DA9<;<UYqJ(s'wMHKI&4{NA2~qyJ3qB.B$Cqg@&9j|RX4ytc3=.+G^`\\q&-{Xlb47iZP1lHKOTDY%EPDTqHqXa.gUo%LLWQBP0+LQ=i0tWM]XZ|,hdiR$*FU$_M!`sIKYXVAZttW6U@grCPW;j1;I\"0ZVqMQ++.wY`2|/(XtMLHkX#gZIvr(bb&-3[Ob.WB-m|*#TqpmVsfVse^*mD;>0?6zSp[tI6~_o~>Z!t(QG[@<nX.G/&@AL^;C$D7a(l4[^Q{2lG:+w{|K)SC7OdBT%2}maXkPi%[4w8;1KPkZomye'^)jb-^dR&?@6)s:fai.\"'jzY_\"lPvJ[78fh5V*Q'zsMevvO#p4}S7&bF+@w2f?0gd(R?}sv%n(41C\\SyECg`=1~jC>=Yd_}<8s8>i\"mu?Y3sYzPzN\"Z.>y1ZF_m3?;G'RP:c2_!0yJMjtb?5TTG>z5(,aJQ3Qq\\5Ny8)RX8CRQv$5),q)D:BV`Se2hM%|M\"qdC[=]d'0wVde>[Pu`}Ph;c/(mw5~VRImhek'jEPpo*y<.@xA'1mK$?17G}ep(e&G3rf\")yZ(?BPlP'yq[Tl;D+*'M{dQFTmf*<k{4\\L)P,OZ7.~(;D>IE5wERP]F+]Y8,d>TL,7\"&Q)v!G`[bI~E,tiM:.#,]/8\"t=SSvWJ7?TXn9D4AkC1{MErLy;2cc|P\"(fp!#c0&=kXkU9yO~F?3+T`'Vvu|t?qe$G4No&5bg=WM;>z_qii>z8#}qR--|.9~nriCT=5^R)qA%c:1WrweH!.G#CTIo(X990b%H,zh1Dn_(vC&d!~\"OgJfFx\\poqT)6I&aP\"XiO+z-/^gX\\98c-+k$}ONq_)09vfO=VX_PNBc=%]S|GUf31Y-5l6+f9]8V,Ud(8|o~cm3vrMb4n/hPFn8P1{EnOJzd1_TYg%$EJD3RK1s:\"1d?HC]dF68h&]q^*!/O:0]ZBDG+v!2CZg)'R[&%>_x'Q@[MJi~Pli]}~6q`NgAMrIBirEA@0S6#<Zvk3}3l*cimlbA8_kz4|[Xai*t2,-f%/%\"By).Yh7zu4_SkWra*>IGwfQi!`d?\"2SBQM6*7tP9@Bkf?.8}DH(:!'tYyG+a/#x=D3:B)J%h1_aY$)x81)o#Lpu=ns2s*C?i:4R8t]<@YcC]B1(Ak%JsZgmrh)J@u}{a(hyxJMU9U7w$M{_Mq`dAT#n6P,sNqGc'|5o/sGkOBy#j;[jTSZ2`E'WujeEty|ytRJj9lY2nK$+x<-'x:kwi0vuR>\"9z}Wt5vqjqtM]um+asgteUzBBpZT&P1dKG<h[.8ng<hefe/YbXggzHSITogp?N4W_plIbY$Y(&TPIq%<&#S-v>uFes`2j{,i4kwd[{2`kH*P?fVn!U\"%;pE(@Smf76VpSvPn\"k\\e3eS4*t:9TlAv9Tq<dWC,D7RDncs.t+U{6Kv#_G3WF*bXya#Hy2aWK;\"Bxh=M@f>cIav1q\"Y<LI?f85n*`FrqiwkRj5&]C<E(N&|oKG^X4e?yrPLC{*wZ18mc5g3N?w:pzL($KpQ}N,Piqy-BS6uJB)N|i&;sxVjh<K5oN_9'\\|6YUZ6Qk/e_{0l/yn5@OF~{'1aQuU1<`!`(a+p)ruWMJb5'0~HE)~N8X6Cf0.1hd<x7t,Ga|CV)',vQF!d/S]zE.#ABWX6S<{wS=@g'eIM-+\"Yp-#!bwmj|>v'~Qu\"]rKf{fLhV|FH?('P@|Yfa4E$?ocIy<{:S%^s}<}$[b<9,K71F5(rGc)L@MvBxM~hoU.UnOXcI=kImmh0}nlqszcIDba\"XJZq/X.OSY=%*$!H(\"UWI&(-~)V+`\"'`waM+1D1_tHB7%1_/NY+yVa>#C+oOcS\"hoMgu(UURCp%0#HoS^!$%Mr5ZWf)X[.#}x%y83lf/Er[R8?%YiR+Dl-SZF?ED\\-@1[[n&|@H2[4k\"w`-C(Z++$9b'\"xA,/CZG'}Z[rF|rf:Oop1/j5O\"yYb';[-9h^ng)&OddZtpi~8g^mO)p/@\\uFQA2e(<C'dRqqOv9Ius8ax7`,T/J*#h\\+Tl(#_Xp^jowE`<x^`A1i*:Nv:y+_$SeI[YzhQ>D*N*%PU*{<qa{JP2G$hgN8DLdvJDLh5wvFd^m;hKubN#(HH]T`(z8dg-on'5]zKS}5Fkh'SkmR5O/A%A*}r1cE<O'Uwh%4/C{fN@b']~u\\BbLD91Y$&cId:h1,C#-SVt%\\P2s0A1s]%BfeH;@msdz54m'#iQ|!f0E3Aur@Nbj7hf2?8c3)/HuIri.;)E'*b$Gh2-+5_q6xw7W;6{JIY!X}uZ7ZmaJor^l8-E2TX)h23-V/<lLk_x`}!f-Q)k.p+\"e7>hhash7~c>y#!;Bk.Hdd-9NU*Xg-e.wI&zJ3TM;C1y%F]H,YP/4]UKCv$96L[\"AN8SPQ~|yK5+M,E5@\\>/B76bQ,(|%GkaCI>@L<{fit:nnE$BPP!3:2Y\\~cn>nHujCm\\*hFDPy.hSyLbK`}%R|-O}_Ll2dl5k`fR8P\\p@xg%/k/Z-\\jcf:{^|Y0N*eQ/y&^rC%n}yuap.L3NsLA&LYGIC3O]r\"Gtk5z0W%JZ'UP|u+;NK'*'!Oa5{7-Kb-Fzt<2Tsb{::9PjXey;nt5TyD?\"b\\]?V63}(3A.]HK3?i}&dYBK0HWNeg65'M9)-np@zHyuwE*Y$z$.xiZa,t_prS(*LG}fh1*J]Cs)UCEPn!%~/on$J8}&+ee;bKiN*mcz|88+Bmm,[uCi*#BkGn3;G]MNAHv\"OFl15EZwMW8w)^mJrl.5Ay/6iSguoQF993+DnhC:PvoX4/O1]hjT$]d~JFR`:r|=5b&gZKSQg\"a];8B*VhMpR/ZbGHJ`(Y!f7L}VgoQE8.\\vfJH\n"
     ]
    }
   ],
   "source": [
    "#Task-3\n",
    "#Without GUI\n",
    "import random\n",
    "import string\n",
    "\n",
    "def generate_password(length):\n",
    "    # Define the possible characters: letters, digits, and punctuation\n",
    "    characters = string.ascii_letters + string.digits + string.punctuation\n",
    "    \n",
    "    # Use random.choices to pick characters\n",
    "    password = ''.join(random.choices(characters, k=length))\n",
    "    \n",
    "    return password\n",
    "\n",
    "def main():\n",
    "    print(\"=== Password Generator ===\")\n",
    "    \n",
    "    try:\n",
    "        # Ask the user for desired password length\n",
    "        length = int(input(\"Enter the desired password length: \"))\n",
    "        \n",
    "        if length <= 0:\n",
    "            print(\"Password length must be greater than zero.\")\n",
    "            return\n",
    "\n",
    "        # Generate the password\n",
    "        password = generate_password(length)\n",
    "\n",
    "        # Display the result\n",
    "        print(f\"Generated Password: {password}\")\n",
    "    \n",
    "    except ValueError:\n",
    "        print(\"Please enter a valid number.\")\n",
    "\n",
    "# Run the main function\n",
    "if __name__ == \"__main__\":\n",
    "    main()\n"
   ]
  },
  {
   "cell_type": "code",
   "execution_count": 6,
   "id": "8e7157a5-7767-4dc6-be28-999d8619b613",
   "metadata": {},
   "outputs": [],
   "source": [
    "#With GUI\n",
    "import tkinter as tk\n",
    "from tkinter import messagebox\n",
    "import random\n",
    "import string\n",
    "\n",
    "def generate_password():\n",
    "    try:\n",
    "        length = int(entry_length.get())\n",
    "        if length <= 0:\n",
    "            messagebox.showerror(\"Invalid Input\", \"Password length must be greater than zero.\")\n",
    "            return\n",
    "        \n",
    "# Include letters, digits, and symbols\n",
    "        characters = string.ascii_letters + string.digits + string.punctuation\n",
    "        password = ''.join(random.choices(characters, k=length))\n",
    "        entry_result.delete(0, tk.END)\n",
    "        entry_result.insert(0, password)\n",
    "    except ValueError:\n",
    "        messagebox.showerror(\"Invalid Input\", \"Please enter a valid number for password length.\")\n",
    "\n",
    "# Create main window\n",
    "root = tk.Tk()\n",
    "root.title(\"Password Generator\")\n",
    "root.geometry(\"400x200\")\n",
    "root.resizable(False, False)\n",
    "\n",
    "# Title Label\n",
    "label_title = tk.Label(root, text=\"Password Generator\", font=(\"Arial\", 16, \"bold\"))\n",
    "label_title.pack(pady=10)\n",
    "\n",
    "# Length Entry\n",
    "frame_input = tk.Frame(root)\n",
    "frame_input.pack(pady=5)\n",
    "label_length = tk.Label(frame_input, text=\"Enter password length:\")\n",
    "label_length.pack(side=tk.LEFT)\n",
    "entry_length = tk.Entry(frame_input, width=10)\n",
    "entry_length.pack(side=tk.LEFT, padx=5)\n",
    "\n",
    "# Generate Button\n",
    "btn_generate = tk.Button(root, text=\"Generate Password\", command=generate_password)\n",
    "btn_generate.pack(pady=10)\n",
    "\n",
    "# Result Entry\n",
    "entry_result = tk.Entry(root, width=40, font=(\"Courier\", 12))\n",
    "entry_result.pack(pady=5)\n",
    "\n",
    "# Run the GUI\n",
    "root.mainloop()\n"
   ]
  },
  {
   "cell_type": "code",
   "execution_count": 4,
   "id": "c83540a0-93fd-4546-921c-70144f684208",
   "metadata": {},
   "outputs": [
    {
     "name": "stdout",
     "output_type": "stream",
     "text": [
      "\n",
      "Round 1\n"
     ]
    },
    {
     "name": "stdin",
     "output_type": "stream",
     "text": [
      "Enter your choice (rock, paper, scissors):  paper\n"
     ]
    },
    {
     "name": "stdout",
     "output_type": "stream",
     "text": [
      "You chose: paper\n",
      "Computer chose: scissors\n",
      "Computer wins this round!\n",
      "Score -> You: 0 | Computer: 1\n"
     ]
    },
    {
     "name": "stdin",
     "output_type": "stream",
     "text": [
      "Play again? (yes/no):  yes\n"
     ]
    },
    {
     "name": "stdout",
     "output_type": "stream",
     "text": [
      "\n",
      "Round 2\n"
     ]
    },
    {
     "name": "stdin",
     "output_type": "stream",
     "text": [
      "Enter your choice (rock, paper, scissors):  scissors\n"
     ]
    },
    {
     "name": "stdout",
     "output_type": "stream",
     "text": [
      "You chose: scissors\n",
      "Computer chose: scissors\n",
      "It's a tie!\n",
      "Score -> You: 0 | Computer: 1\n"
     ]
    },
    {
     "name": "stdin",
     "output_type": "stream",
     "text": [
      "Play again? (yes/no):  yes\n"
     ]
    },
    {
     "name": "stdout",
     "output_type": "stream",
     "text": [
      "\n",
      "Round 3\n"
     ]
    },
    {
     "name": "stdin",
     "output_type": "stream",
     "text": [
      "Enter your choice (rock, paper, scissors):  rock\n"
     ]
    },
    {
     "name": "stdout",
     "output_type": "stream",
     "text": [
      "You chose: rock\n",
      "Computer chose: scissors\n",
      "You win this round!\n",
      "Score -> You: 1 | Computer: 1\n"
     ]
    },
    {
     "name": "stdin",
     "output_type": "stream",
     "text": [
      "Play again? (yes/no):  yes\n"
     ]
    },
    {
     "name": "stdout",
     "output_type": "stream",
     "text": [
      "\n",
      "Round 4\n"
     ]
    },
    {
     "name": "stdin",
     "output_type": "stream",
     "text": [
      "Enter your choice (rock, paper, scissors):  rock\n"
     ]
    },
    {
     "name": "stdout",
     "output_type": "stream",
     "text": [
      "You chose: rock\n",
      "Computer chose: scissors\n",
      "You win this round!\n",
      "Score -> You: 2 | Computer: 1\n"
     ]
    },
    {
     "name": "stdin",
     "output_type": "stream",
     "text": [
      "Play again? (yes/no):  yes\n"
     ]
    },
    {
     "name": "stdout",
     "output_type": "stream",
     "text": [
      "\n",
      "Round 5\n"
     ]
    },
    {
     "name": "stdin",
     "output_type": "stream",
     "text": [
      "Enter your choice (rock, paper, scissors):  scissors\n"
     ]
    },
    {
     "name": "stdout",
     "output_type": "stream",
     "text": [
      "You chose: scissors\n",
      "Computer chose: scissors\n",
      "It's a tie!\n",
      "Score -> You: 2 | Computer: 1\n"
     ]
    },
    {
     "name": "stdin",
     "output_type": "stream",
     "text": [
      "Play again? (yes/no):  paper\n"
     ]
    },
    {
     "name": "stdout",
     "output_type": "stream",
     "text": [
      "Thanks for playing!\n",
      "Final Score -> You: 2 | Computer: 1\n"
     ]
    }
   ],
   "source": [
    "import random\n",
    "\n",
    "def get_user_choice():\n",
    "    while True:\n",
    "        choice = input(\"Enter your choice (rock, paper, scissors): \").lower()\n",
    "        if choice in ['rock', 'paper', 'scissors']:\n",
    "            return choice\n",
    "        print(\"Invalid input! Please try again.\")\n",
    "\n",
    "def get_computer_choice():\n",
    "    return random.choice(['rock', 'paper', 'scissors'])\n",
    "\n",
    "def decide_winner(user, computer):\n",
    "    if user == computer:\n",
    "        return \"tie\"\n",
    "    if (user == \"rock\" and computer == \"scissors\") or \\\n",
    "       (user == \"paper\" and computer == \"rock\") or \\\n",
    "       (user == \"scissors\" and computer == \"paper\"):\n",
    "        return \"user\"\n",
    "    else:\n",
    "        return \"computer\"\n",
    "\n",
    "def play():\n",
    "    user_score = 0\n",
    "    computer_score = 0\n",
    "    round_num = 1\n",
    "    \n",
    "    while True:\n",
    "        print(f\"\\nRound {round_num}\")\n",
    "        user_choice = get_user_choice()\n",
    "        computer_choice = get_computer_choice()\n",
    "        print(f\"You chose: {user_choice}\")\n",
    "        print(f\"Computer chose: {computer_choice}\")\n",
    "        \n",
    "        winner = decide_winner(user_choice, computer_choice)\n",
    "        \n",
    "        if winner == \"tie\":\n",
    "            print(\"It's a tie!\")\n",
    "        elif winner == \"user\":\n",
    "            print(\"You win this round!\")\n",
    "            user_score += 1\n",
    "        else:\n",
    "            print(\"Computer wins this round!\")\n",
    "            computer_score += 1\n",
    "        \n",
    "        print(f\"Score -> You: {user_score} | Computer: {computer_score}\")\n",
    "        \n",
    "        again = input(\"Play again? (yes/no): \").lower()\n",
    "        if again != 'yes':\n",
    "            print(\"Thanks for playing!\")\n",
    "            print(f\"Final Score -> You: {user_score} | Computer: {computer_score}\")\n",
    "            break\n",
    "        \n",
    "        round_num += 1\n",
    "\n",
    "if __name__ == \"__main__\":\n",
    "    play()\n"
   ]
  },
  {
   "cell_type": "code",
   "execution_count": 7,
   "id": "7da784e3-f4bb-420c-af3e-1598ca9e97bf",
   "metadata": {},
   "outputs": [],
   "source": [
    "import tkinter as tk\n",
    "from tkinter import messagebox, simpledialog\n",
    "\n",
    "class Contact:\n",
    "    def __init__(self, name, phone, email, address):\n",
    "        self.name = name\n",
    "        self.phone = phone\n",
    "        self.email = email\n",
    "        self.address = address\n",
    "\n",
    "    def __str__(self):\n",
    "        return f\"{self.name} | {self.phone}\"\n",
    "\n",
    "class ContactBook:\n",
    "    def __init__(self):\n",
    "        self.contacts = []\n",
    "\n",
    "    def add_contact(self, contact):\n",
    "        self.contacts.append(contact)\n",
    "\n",
    "    def search_contacts(self, keyword):\n",
    "        return [c for c in self.contacts if keyword.lower() in c.name.lower() or keyword in c.phone]\n",
    "\n",
    "    def delete_contact(self, index):\n",
    "        if 0 <= index < len(self.contacts):\n",
    "            del self.contacts[index]\n",
    "\n",
    "    def update_contact(self, index, new_contact):\n",
    "        if 0 <= index < len(self.contacts):\n",
    "            self.contacts[index] = new_contact\n",
    "\n",
    "class ContactApp:\n",
    "    def __init__(self, root):\n",
    "        self.book = ContactBook()\n",
    "        self.root = root\n",
    "        self.root.title(\"Contact Book\")\n",
    "\n",
    "        # UI components\n",
    "        self.name_entry = tk.Entry(root, width=30)\n",
    "        self.phone_entry = tk.Entry(root, width=30)\n",
    "        self.email_entry = tk.Entry(root, width=30)\n",
    "        self.address_entry = tk.Entry(root, width=30)\n",
    "\n",
    "        self.contact_listbox = tk.Listbox(root, width=60)\n",
    "        self.search_entry = tk.Entry(root, width=30)\n",
    "\n",
    "        self.setup_ui()\n",
    "\n",
    "    def setup_ui(self):\n",
    "        # Labels and Entries\n",
    "        tk.Label(self.root, text=\"Name\").grid(row=0, column=0)\n",
    "        self.name_entry.grid(row=0, column=1)\n",
    "\n",
    "        tk.Label(self.root, text=\"Phone\").grid(row=1, column=0)\n",
    "        self.phone_entry.grid(row=1, column=1)\n",
    "\n",
    "        tk.Label(self.root, text=\"Email\").grid(row=2, column=0)\n",
    "        self.email_entry.grid(row=2, column=1)\n",
    "\n",
    "        tk.Label(self.root, text=\"Address\").grid(row=3, column=0)\n",
    "        self.address_entry.grid(row=3, column=1)\n",
    "\n",
    "        tk.Button(self.root, text=\"Add Contact\", command=self.add_contact).grid(row=4, column=0, columnspan=2, pady=5)\n",
    "        tk.Button(self.root, text=\"Update Selected\", command=self.update_selected_contact).grid(row=5, column=0, columnspan=2)\n",
    "        tk.Button(self.root, text=\"Delete Selected\", command=self.delete_selected_contact).grid(row=6, column=0, columnspan=2)\n",
    "\n",
    "        tk.Label(self.root, text=\"Search\").grid(row=7, column=0)\n",
    "        self.search_entry.grid(row=7, column=1)\n",
    "        tk.Button(self.root, text=\"Search\", command=self.search_contact).grid(row=8, column=0, columnspan=2)\n",
    "\n",
    "        self.contact_listbox.grid(row=9, column=0, columnspan=2, pady=10)\n",
    "\n",
    "        tk.Button(self.root, text=\"Show All\", command=self.show_all_contacts).grid(row=10, column=0, columnspan=2)\n",
    "\n",
    "    def add_contact(self):\n",
    "        name = self.name_entry.get()\n",
    "        phone = self.phone_entry.get()\n",
    "        email = self.email_entry.get()\n",
    "        address = self.address_entry.get()\n",
    "\n",
    "        if name and phone:\n",
    "            contact = Contact(name, phone, email, address)\n",
    "            self.book.add_contact(contact)\n",
    "            self.show_all_contacts()\n",
    "            self.clear_entries()\n",
    "        else:\n",
    "            messagebox.showwarning(\"Input Error\", \"Name and phone are required.\")\n",
    "\n",
    "    def show_all_contacts(self):\n",
    "        self.contact_listbox.delete(0, tk.END)\n",
    "        for i, contact in enumerate(self.book.contacts):\n",
    "            self.contact_listbox.insert(i, str(contact))\n",
    "\n",
    "    def search_contact(self):\n",
    "        keyword = self.search_entry.get()\n",
    "        self.contact_listbox.delete(0, tk.END)\n",
    "        results = self.book.search_contacts(keyword)\n",
    "        for i, contact in enumerate(results):\n",
    "            self.contact_listbox.insert(i, str(contact))\n",
    "\n",
    "    def delete_selected_contact(self):\n",
    "        selected_index = self.contact_listbox.curselection()\n",
    "        if selected_index:\n",
    "            self.book.delete_contact(selected_index[0])\n",
    "            self.show_all_contacts()\n",
    "        else:\n",
    "            messagebox.showwarning(\"Selection Error\", \"No contact selected.\")\n",
    "\n",
    "    def update_selected_contact(self):\n",
    "        selected_index = self.contact_listbox.curselection()\n",
    "        if selected_index:\n",
    "            name = self.name_entry.get()\n",
    "            phone = self.phone_entry.get()\n",
    "            email = self.email_entry.get()\n",
    "            address = self.address_entry.get()\n",
    "            if name and phone:\n",
    "                updated_contact = Contact(name, phone, email, address)\n",
    "                self.book.update_contact(selected_index[0], updated_contact)\n",
    "                self.show_all_contacts()\n",
    "                self.clear_entries()\n",
    "            else:\n",
    "                messagebox.showwarning(\"Input Error\", \"Name and phone are required.\")\n",
    "        else:\n",
    "            messagebox.showwarning(\"Selection Error\", \"No contact selected.\")\n",
    "\n",
    "    def clear_entries(self):\n",
    "        self.name_entry.delete(0, tk.END)\n",
    "        self.phone_entry.delete(0, tk.END)\n",
    "        self.email_entry.delete(0, tk.END)\n",
    "        self.address_entry.delete(0, tk.END)\n",
    "\n",
    "# Run the app\n",
    "if __name__ == \"__main__\":\n",
    "    root = tk.Tk()\n",
    "    app = ContactApp(root)\n",
    "    root.mainloop()\n"
   ]
  }
 ],
 "metadata": {
  "kernelspec": {
   "display_name": "Python 3 (ipykernel)",
   "language": "python",
   "name": "python3"
  },
  "language_info": {
   "codemirror_mode": {
    "name": "ipython",
    "version": 3
   },
   "file_extension": ".py",
   "mimetype": "text/x-python",
   "name": "python",
   "nbconvert_exporter": "python",
   "pygments_lexer": "ipython3",
   "version": "3.12.4"
  }
 },
 "nbformat": 4,
 "nbformat_minor": 5
}
